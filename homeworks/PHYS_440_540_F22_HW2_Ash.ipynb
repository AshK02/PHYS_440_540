{
 "cells": [
  {
   "cell_type": "markdown",
   "metadata": {},
   "source": [
    "# Problem 1\n",
    "Follow the example from the Central Limit Theorem cells in BasicStats2.ipynb and simulate the distribution of 1,000,000 draws of a (very) non-Gaussian distribution (for example chi-square with low $k$).  Demonstrate that the result confirms the central limit theorem by showing that the mean of the draws becomes Gaussian with large `N`.\n",
    "\n",
    "Note that you'll need functions to both generate the true distribution and also to take random draws from it.\n",
    "\n",
    "See below for code starter.\n",
    "\n",
    "\n",
    "# Problem 2\n",
    "\n",
    "On Data Camp:\n",
    "\n",
    "Do Chapters 1 and 2 of \"Exploratory Data Analysis in Python\" to get some practice with CDF.  \n",
    "\n",
    "Chapter 2 is actually the only one that I care about, but it makes sense to do chapter 1 to give you some context.  Chapter 1 introduces some Pandas tools.  I'm not planning on assigning the \"Data Manipulation with Pandas\" course, but you might find that useful as well.  \n",
    "\n",
    "Note this lesson talks about PMFs.  A PMF is a PDF for a discrete distribution.  For the sake of comparing this assignment to class you can think of PMFs and PDFs as the same thing."
   ]
  },
  {
   "cell_type": "code",
   "execution_count": 11,
   "metadata": {},
   "outputs": [
    {
     "ename": "SyntaxError",
     "evalue": "keyword argument repeated: bins (<ipython-input-11-84f40b1e49ff>, line 29)",
     "output_type": "error",
     "traceback": [
      "\u001b[1;36m  File \u001b[1;32m\"<ipython-input-11-84f40b1e49ff>\"\u001b[1;36m, line \u001b[1;32m29\u001b[0m\n\u001b[1;33m    _ = plt.hist(yy,bins='Scott',bins=100,histtype=\"stepfilled\",alpha=0.5)\u001b[0m\n\u001b[1;37m                                 ^\u001b[0m\n\u001b[1;31mSyntaxError\u001b[0m\u001b[1;31m:\u001b[0m keyword argument repeated: bins\n"
     ]
    },
    {
     "data": {
      "image/png": "[encoded data removed]",
      "text/plain": [
       "<Figure size 432x288 with 1 Axes>"
      ]
     },
     "metadata": {
      "needs_background": "light"
     },
     "output_type": "display_data"
    }
   ],
   "source": [
    "import numpy as np\n",
    "from matplotlib import pyplot as plt\n",
    "from scipy.stats import norm\n",
    "from scipy import stats\n",
    "\n",
    "N=2 # Number of draws.  Show both small and large values\n",
    "mu=0.5 # Location\n",
    "sigma =1.0/np.sqrt(12)/np.sqrt(N) # Sqrt(N) properly normalizes the pdf\n",
    "\n",
    "xgrid = np.linspace(-0.5,2,1000) # Array to sample the space\n",
    "\n",
    "dist = stats.norm(mu,sigma) # Complete\n",
    "plt.plot(xgrid,dist.pdf(xgrid)) # Complete\n",
    "\n",
    "#Rug plot of N random draws\n",
    "x = np.random.random(N) # N random draws\n",
    "plt.plot(x, 0*x, '|', markersize=50) #Rug plot of random draws\n",
    "plt.xlabel('x')\n",
    "plt.ylabel('pdf')\n",
    "plt.xlim(0.0, 1.0) #Limit the x-axis range to make things easier to see\n",
    "\n",
    "# Repeat that 1,000,000 times, averaging the N draws each time\n",
    "yy = []\n",
    "for i in np.arange(1000000): # Complete\n",
    "    xx = np.random.random(N) # N random draws\n",
    "    yy.append(xx.mean()) # Append average of those random draws to the end of the array\n",
    "\n",
    "#Plot the histogram with Scott or Freedman bins    \n",
    "_ = plt.hist(yy,bins='Scott',bins=100,histtype=\"stepfilled\",alpha=0.5)\n",
    "\n",
    "#Overplot a Gaussian at the appropriate location\n",
    "distG = stats.norm(loc=100,scale=np.sqrt(2*np.pi/N)) # Complete\n",
    "plt.plot(xgrid,distG.pdf(xgrid)) # Complete"
   ]
  },
  {
   "cell_type": "markdown",
   "metadata": {},
   "source": [
    "### Some useful definitions and functions"
   ]
  },
  {
   "cell_type": "code",
   "execution_count": null,
   "metadata": {},
   "outputs": [],
   "source": [
    "import numpy as np\n",
    "from matplotlib import pyplot as plt\n",
    "from scipy import stats\n",
    "from astroML.plotting import setup_text_plots\n",
    "from astroML.stats import sigmaG\n",
    "from astroML.plotting import hist as fancyhist\n",
    "setup_text_plots(fontsize=14, usetex=False)\n",
    "%matplotlib inline"
   ]
  },
  {
   "cell_type": "markdown",
   "metadata": {},
   "source": [
    "This astroML function adjusts matplotlib settings for a uniform feel in the \n",
    "textbook. Note that with `usetex=True`, fonts are rendered with $\\LaTeX$. This \n",
    "may result in an error if $\\LaTeX$ is not installed on your system.  In that \n",
    "case, you can set usetex to `False`."
   ]
  }
 ],
 "metadata": {
  "anaconda-cloud": {},
  "kernelspec": {
   "display_name": "Python 3",
   "language": "python",
   "name": "python3"
  },
  "language_info": {
   "codemirror_mode": {
    "name": "ipython",
    "version": 3
   },
   "file_extension": ".py",
   "mimetype": "text/x-python",
   "name": "python",
   "nbconvert_exporter": "python",
   "pygments_lexer": "ipython3",
   "version": "3.9.1"
  }
 },
 "nbformat": 4,
 "nbformat_minor": 2
}
